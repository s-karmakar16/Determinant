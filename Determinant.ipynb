{
 "cells": [
  {
   "cell_type": "code",
   "execution_count": 1,
   "metadata": {},
   "outputs": [],
   "source": [
    "def disp(mat):\n",
    "    for i in range(len(mat)):\n",
    "        print(\"|\",*mat[i],\"|\")"
   ]
  },
  {
   "cell_type": "code",
   "execution_count": 2,
   "metadata": {},
   "outputs": [],
   "source": [
    "def cofac(n, mat, p, q):\n",
    "    i = j = 0\n",
    "    temp = [[0 for i in range(n-1)] for i in range(n-1)]\n",
    "    for row in range(n):\n",
    "        for col in range(n):\n",
    "            if  row != p and col != q:\n",
    "                temp[i][j] = mat[row][col]\n",
    "                j+=1\n",
    "                if col == n-(q//(n-1))-1:\n",
    "                    j=0\n",
    "                    i+=1\n",
    "            else:\n",
    "                continue\n",
    "    return temp"
   ]
  },
  {
   "cell_type": "code",
   "execution_count": 3,
   "metadata": {},
   "outputs": [],
   "source": [
    "def det(n, mat):\n",
    "    sign = 1\n",
    "    S = 0\n",
    "    if n==1:\n",
    "            return mat[0][0]\n",
    "    else:\n",
    "            for k in range(n):\n",
    "                temp = cofac(n, mat, 0, k)\n",
    "                S += sign * mat[0][k] * det(n-1, temp)\n",
    "                sign = -sign\n",
    "            return S"
   ]
  },
  {
   "cell_type": "code",
   "execution_count": 4,
   "metadata": {},
   "outputs": [
    {
     "name": "stdout",
     "output_type": "stream",
     "text": [
      "Hello! Welcome to the Determinant Calculator!\n",
      "To calculate the determinant you have to input a square matrix. \n",
      " What will be the dimensions of your matrix?\n",
      "Great! Lets start adding values to the matrix row-wise:\n",
      "Enter the (1,1) the value of the matrix: \n",
      "Enter the (1,2) the value of the matrix: \n",
      "Enter the (1,3) the value of the matrix: \n",
      "Enter the (2,1) the value of the matrix: \n",
      "Enter the (2,2) the value of the matrix: \n",
      "Enter the (2,3) the value of the matrix: \n",
      "Enter the (3,1) the value of the matrix: \n",
      "Enter the (3,2) the value of the matrix: \n",
      "Enter the (3,3) the value of the matrix: \n",
      "Great! The matrix is as follows: \n",
      "| 1 2 3 |\n",
      "| 4 5 6 |\n",
      "| 7 8 9 |\n"
     ]
    }
   ],
   "source": [
    "print(\"Hello! Welcome to the Determinant Calculator!\")\n",
    "print(\"To calculate the determinant you have to input a square matrix. \\n What will be the dimensions of your matrix?\")\n",
    "n = int(input())\n",
    "m = [[0 for i in range(n)] for i in range(n)]\n",
    "print(\"Great! Lets start adding values to the matrix row-wise:\")\n",
    "for i in range(n):\n",
    "    for j in range(n):\n",
    "        print(\"Enter the ({},{}) the value of the matrix: \".format(i+1, j+1))\n",
    "        m[i][j] = int(input())\n",
    "print(\"Great! The matrix is as follows: \")\n",
    "disp(m)"
   ]
  },
  {
   "cell_type": "code",
   "execution_count": 5,
   "metadata": {},
   "outputs": [
    {
     "name": "stdout",
     "output_type": "stream",
     "text": [
      "The determinant of the matrix is = 0\n"
     ]
    }
   ],
   "source": [
    "print(\"The determinant of the matrix is = {}\". format(det(n,m)))"
   ]
  }
 ],
 "metadata": {
  "kernelspec": {
   "display_name": "base",
   "language": "python",
   "name": "python3"
  },
  "language_info": {
   "codemirror_mode": {
    "name": "ipython",
    "version": 3
   },
   "file_extension": ".py",
   "mimetype": "text/x-python",
   "name": "python",
   "nbconvert_exporter": "python",
   "pygments_lexer": "ipython3",
   "version": "3.8.8"
  },
  "orig_nbformat": 4,
  "vscode": {
   "interpreter": {
    "hash": "5ae58900cfbb8c43ab3495913814b7cf26024f51651a94ce8bf64d6111688e8d"
   }
  }
 },
 "nbformat": 4,
 "nbformat_minor": 2
}
